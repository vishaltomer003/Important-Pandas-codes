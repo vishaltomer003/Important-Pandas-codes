{
 "cells": [
  {
   "cell_type": "code",
   "execution_count": null,
   "metadata": {},
   "outputs": [],
   "source": [
    "Input={1:['A','B'],2:['B','C'],3:['C','D','E'],4:['F','E']}\n",
    "dic={1:'a',2:'l',3:'h',4:'c',6:'a'}"
   ]
  },
  {
   "attachments": {},
   "cell_type": "markdown",
   "metadata": {},
   "source": [
    "# Values"
   ]
  },
  {
   "cell_type": "code",
   "execution_count": 10,
   "metadata": {},
   "outputs": [
    {
     "data": {
      "text/plain": [
       "dict_values([['A', 'B'], ['B', 'C'], ['C', 'D', 'E'], ['F', 'E']])"
      ]
     },
     "execution_count": 10,
     "metadata": {},
     "output_type": "execute_result"
    }
   ],
   "source": [
    "\n",
    "Input.values()"
   ]
  },
  {
   "attachments": {},
   "cell_type": "markdown",
   "metadata": {},
   "source": [
    "# keys"
   ]
  },
  {
   "cell_type": "code",
   "execution_count": 6,
   "metadata": {},
   "outputs": [
    {
     "data": {
      "text/plain": [
       "dict_keys([1, 2, 3, 4])"
      ]
     },
     "execution_count": 6,
     "metadata": {},
     "output_type": "execute_result"
    }
   ],
   "source": [
    "Input.keys()"
   ]
  },
  {
   "attachments": {},
   "cell_type": "markdown",
   "metadata": {},
   "source": [
    "# Items"
   ]
  },
  {
   "cell_type": "code",
   "execution_count": 8,
   "metadata": {},
   "outputs": [
    {
     "name": "stdout",
     "output_type": "stream",
     "text": [
      "1 ['A', 'B']\n",
      "2 ['B', 'C']\n",
      "3 ['C', 'D', 'E']\n",
      "4 ['F', 'E']\n"
     ]
    }
   ],
   "source": [
    "\n",
    "for x,y in Input.items():\n",
    "    print(x,y)"
   ]
  },
  {
   "attachments": {},
   "cell_type": "markdown",
   "metadata": {},
   "source": [
    "#### Swaping key , value in dic"
   ]
  },
  {
   "cell_type": "code",
   "execution_count": 14,
   "metadata": {},
   "outputs": [
    {
     "data": {
      "text/plain": [
       "{'a': 6, 'l': 2, 'h': 3, 'c': 4, 'e': 6}"
      ]
     },
     "execution_count": 14,
     "metadata": {},
     "output_type": "execute_result"
    }
   ],
   "source": [
    "\n",
    "\n",
    "new_dic = dict([(value,key) for key,value in dic.items()])\n",
    "new_dic['e'] = 6\n",
    "new_dic\n"
   ]
  },
  {
   "cell_type": "code",
   "execution_count": 16,
   "metadata": {},
   "outputs": [
    {
     "name": "stdout",
     "output_type": "stream",
     "text": [
      "6\n"
     ]
    }
   ],
   "source": [
    "# printing value for input m\n",
    "m = input()\n",
    "print(new_dic[m])"
   ]
  },
  {
   "cell_type": "code",
   "execution_count": 20,
   "metadata": {},
   "outputs": [
    {
     "data": {
      "text/plain": [
       "['a', 'c', 'e', 'h', 'l']"
      ]
     },
     "execution_count": 20,
     "metadata": {},
     "output_type": "execute_result"
    }
   ],
   "source": [
    "# print keys in alphabetical order\n",
    "sorted(new_dic.keys())"
   ]
  },
  {
   "cell_type": "code",
   "execution_count": 23,
   "metadata": {},
   "outputs": [
    {
     "name": "stdout",
     "output_type": "stream",
     "text": [
      "a\n",
      "e\n",
      "a\n",
      "e\n"
     ]
    }
   ],
   "source": [
    "# print out all key of value 6\n",
    "for key,value in new_dic.items() :\n",
    "    if value == 6:\n",
    "        print(key)\n",
    "for i in new_dic:\n",
    "    if new_dic[i] == 6:\n",
    "        print(i)\n",
    "\n"
   ]
  },
  {
   "attachments": {},
   "cell_type": "markdown",
   "metadata": {},
   "source": [
    "# Sorted by key"
   ]
  },
  {
   "cell_type": "code",
   "execution_count": 27,
   "metadata": {},
   "outputs": [
    {
     "name": "stdout",
     "output_type": "stream",
     "text": [
      "l 2\n",
      "h 3\n",
      "e 6\n",
      "c 4\n",
      "a 6\n"
     ]
    }
   ],
   "source": [
    "\n",
    "for key,value in sorted(new_dic.items(), reverse = True ):\n",
    "    print(key,value)"
   ]
  },
  {
   "attachments": {},
   "cell_type": "markdown",
   "metadata": {},
   "source": [
    "# Sorted key by value"
   ]
  },
  {
   "cell_type": "code",
   "execution_count": 42,
   "metadata": {},
   "outputs": [
    {
     "name": "stdout",
     "output_type": "stream",
     "text": [
      "l 2\n",
      "h 3\n",
      "c 4\n",
      "a 6\n",
      "e 6\n"
     ]
    }
   ],
   "source": [
    "\n",
    "for i in sorted(new_dic, key = new_dic.get):\n",
    "    print(i,new_dic[i])"
   ]
  },
  {
   "cell_type": "code",
   "execution_count": 53,
   "metadata": {},
   "outputs": [
    {
     "data": {
      "text/plain": [
       "{'A': [1], 'B': [1, 2], 'C': [2, 3], 'D': [3], 'E': [3, 4], 'F': [4]}"
      ]
     },
     "execution_count": 53,
     "metadata": {},
     "output_type": "execute_result"
    }
   ],
   "source": [
    "Input={1:['A','B'],2:['B','C'],3:['C','D','E'],4:['F','E']}\n",
    "dic ={}\n",
    "for key, value in Input.items():\n",
    "\n",
    "    for i in value:\n",
    "        if i not in dic:\n",
    "            dic[i] =[]\n",
    "            dic[i].append(key)\n",
    "        else:\n",
    "            dic[i].append(key)\n",
    "dic"
   ]
  },
  {
   "cell_type": "code",
   "execution_count": 65,
   "metadata": {},
   "outputs": [],
   "source": [
    "Input = {1:'a',2:'y',3:'a',4:'i',5:'l',6:'i',7:'a'}\n",
    "dc= {}\n",
    "\n",
    "for key,value in Input.items():\n",
    "    if value not in dc:\n",
    "        dc[value] = []\n",
    "        dc[value].append(key)\n",
    "    else:\n",
    "        dc[value].append(key)"
   ]
  },
  {
   "cell_type": "code",
   "execution_count": 66,
   "metadata": {},
   "outputs": [
    {
     "data": {
      "text/plain": [
       "{'a': [1, 3, 7], 'y': [2], 'i': [4, 6], 'l': [5]}"
      ]
     },
     "execution_count": 66,
     "metadata": {},
     "output_type": "execute_result"
    }
   ],
   "source": [
    "dc"
   ]
  }
 ],
 "metadata": {
  "kernelspec": {
   "display_name": "base",
   "language": "python",
   "name": "python3"
  },
  "language_info": {
   "codemirror_mode": {
    "name": "ipython",
    "version": 3
   },
   "file_extension": ".py",
   "mimetype": "text/x-python",
   "name": "python",
   "nbconvert_exporter": "python",
   "pygments_lexer": "ipython3",
   "version": "3.9.12 (main, Apr  4 2022, 05:22:27) [MSC v.1916 64 bit (AMD64)]"
  },
  "orig_nbformat": 4,
  "vscode": {
   "interpreter": {
    "hash": "043f2b5a1970a131d06754b308e1494d14bec9888fec20f91acc177f4f73a177"
   }
  }
 },
 "nbformat": 4,
 "nbformat_minor": 2
}
